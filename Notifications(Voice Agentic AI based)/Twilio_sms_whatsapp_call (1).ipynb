{
  "nbformat": 4,
  "nbformat_minor": 0,
  "metadata": {
    "colab": {
      "provenance": [],
      "gpuType": "T4"
    },
    "kernelspec": {
      "name": "python3",
      "display_name": "Python 3"
    },
    "language_info": {
      "name": "python"
    },
    "accelerator": "GPU"
  },
  "cells": [
    {
      "cell_type": "code",
      "execution_count": 1,
      "metadata": {
        "colab": {
          "base_uri": "https://localhost:8080/"
        },
        "id": "D4w-RXNqaHx_",
        "outputId": "bec449fd-21e8-42a6-eb76-4e2593c0c29b"
      },
      "outputs": [
        {
          "output_type": "stream",
          "name": "stdout",
          "text": [
            "Collecting twilio\n",
            "  Downloading twilio-9.6.1-py2.py3-none-any.whl.metadata (13 kB)\n",
            "Requirement already satisfied: requests>=2.0.0 in /usr/local/lib/python3.11/dist-packages (from twilio) (2.32.3)\n",
            "Requirement already satisfied: PyJWT<3.0.0,>=2.0.0 in /usr/local/lib/python3.11/dist-packages (from twilio) (2.10.1)\n",
            "Requirement already satisfied: aiohttp>=3.8.4 in /usr/local/lib/python3.11/dist-packages (from twilio) (3.11.15)\n",
            "Collecting aiohttp-retry>=2.8.3 (from twilio)\n",
            "  Downloading aiohttp_retry-2.9.1-py3-none-any.whl.metadata (8.8 kB)\n",
            "Requirement already satisfied: aiohappyeyeballs>=2.3.0 in /usr/local/lib/python3.11/dist-packages (from aiohttp>=3.8.4->twilio) (2.6.1)\n",
            "Requirement already satisfied: aiosignal>=1.1.2 in /usr/local/lib/python3.11/dist-packages (from aiohttp>=3.8.4->twilio) (1.3.2)\n",
            "Requirement already satisfied: attrs>=17.3.0 in /usr/local/lib/python3.11/dist-packages (from aiohttp>=3.8.4->twilio) (25.3.0)\n",
            "Requirement already satisfied: frozenlist>=1.1.1 in /usr/local/lib/python3.11/dist-packages (from aiohttp>=3.8.4->twilio) (1.6.0)\n",
            "Requirement already satisfied: multidict<7.0,>=4.5 in /usr/local/lib/python3.11/dist-packages (from aiohttp>=3.8.4->twilio) (6.4.3)\n",
            "Requirement already satisfied: propcache>=0.2.0 in /usr/local/lib/python3.11/dist-packages (from aiohttp>=3.8.4->twilio) (0.3.1)\n",
            "Requirement already satisfied: yarl<2.0,>=1.17.0 in /usr/local/lib/python3.11/dist-packages (from aiohttp>=3.8.4->twilio) (1.20.0)\n",
            "Requirement already satisfied: charset-normalizer<4,>=2 in /usr/local/lib/python3.11/dist-packages (from requests>=2.0.0->twilio) (3.4.2)\n",
            "Requirement already satisfied: idna<4,>=2.5 in /usr/local/lib/python3.11/dist-packages (from requests>=2.0.0->twilio) (3.10)\n",
            "Requirement already satisfied: urllib3<3,>=1.21.1 in /usr/local/lib/python3.11/dist-packages (from requests>=2.0.0->twilio) (2.4.0)\n",
            "Requirement already satisfied: certifi>=2017.4.17 in /usr/local/lib/python3.11/dist-packages (from requests>=2.0.0->twilio) (2025.4.26)\n",
            "Downloading twilio-9.6.1-py2.py3-none-any.whl (1.9 MB)\n",
            "\u001b[2K   \u001b[90m━━━━━━━━━━━━━━━━━━━━━━━━━━━━━━━━━━━━━━━━\u001b[0m \u001b[32m1.9/1.9 MB\u001b[0m \u001b[31m25.3 MB/s\u001b[0m eta \u001b[36m0:00:00\u001b[0m\n",
            "\u001b[?25hDownloading aiohttp_retry-2.9.1-py3-none-any.whl (10.0 kB)\n",
            "Installing collected packages: aiohttp-retry, twilio\n",
            "Successfully installed aiohttp-retry-2.9.1 twilio-9.6.1\n"
          ]
        }
      ],
      "source": [
        "!pip install twilio\n"
      ]
    },
    {
      "cell_type": "markdown",
      "source": [
        "activate whatsapp sandbox\n",
        "\n",
        "join crop-path"
      ],
      "metadata": {
        "id": "3saY7jPN-LZ_"
      }
    },
    {
      "cell_type": "markdown",
      "source": [
        "**Whatsapp notification**"
      ],
      "metadata": {
        "id": "t1n8fGydgnHp"
      }
    },
    {
      "cell_type": "code",
      "source": [
        "from twilio.rest import Client\n",
        "\n",
        "account_sid = 'ACfde97a5bd4929cbccd69e0e780748ecf'\n",
        "auth_token = '31c56f0137d32e7b641b080cbd8761e6'\n",
        "client = Client(account_sid, auth_token)\n",
        "\n",
        "message = client.messages.create(\n",
        "  #  body=\"🚀 Take control of your finances today! Our Digital Expense Tracker helps you save money, track spending, and reach your financial goals effortlessly. Download now and get 30 days free premium access! 💰📊\",\n",
        "   body=\"Event Reminder\",\n",
        "   from_='whatsapp:+14155238886',\n",
        "   to='whatsapp:+917550293777'\n",
        ")\n",
        "print(message.sid)"
      ],
      "metadata": {
        "colab": {
          "base_uri": "https://localhost:8080/"
        },
        "id": "PmxVwbQ9DtTs",
        "outputId": "3ea254a4-1748-4641-d37d-fc9076e6759a"
      },
      "execution_count": 8,
      "outputs": [
        {
          "output_type": "stream",
          "name": "stdout",
          "text": [
            "SMaa59e4f7986c09a6ca2ed1fc74071286\n"
          ]
        }
      ]
    },
    {
      "cell_type": "markdown",
      "source": [
        "**SMS Notification**"
      ],
      "metadata": {
        "id": "JhhIdJ3Igtz_"
      }
    },
    {
      "cell_type": "code",
      "source": [
        "from twilio.rest import Client\n",
        "\n",
        "# Replace with your Twilio credentials\n",
        "account_sid = 'ACfde97a5bd4929cbccd69e0e780748ecf'  # Your Account SID\n",
        "auth_token = '31c56f0137d32e7b641b080cbd8761e6'     # Your Auth Token\n",
        "client = Client(account_sid, auth_token)\n",
        "\n",
        "# Send an SMS\n",
        "message = client.messages.create(\n",
        "    # body=\"🚀 Take control of your finances today! Our Digital Expense Tracker helps you save money, track spending, and reach your financial goals effortlessly. Download now and get 30 days free premium access! 💰📊\",  # Your message\n",
        "    body=\"Event Notification\",\n",
        "    from_='+17249954675',        # Your Twilio phone number (must be purchased)\n",
        "    to='+917550293777'          # Recipient's phone number\n",
        ")\n",
        "\n",
        "print(message.sid)"
      ],
      "metadata": {
        "colab": {
          "base_uri": "https://localhost:8080/"
        },
        "id": "JSn3_NgKczhF",
        "outputId": "55efcdc6-e43b-41b9-9103-424f0cb96f9d"
      },
      "execution_count": 4,
      "outputs": [
        {
          "output_type": "stream",
          "name": "stdout",
          "text": [
            "SMfa3a2506badc86270f0cef87bdbbef98\n"
          ]
        }
      ]
    },
    {
      "cell_type": "markdown",
      "source": [
        "**For Call Notification to notify about the event renminders**"
      ],
      "metadata": {
        "id": "3qQcm2gYjsXf"
      }
    },
    {
      "cell_type": "code",
      "source": [
        "from twilio.rest import Client\n",
        "\n",
        "# Replace with your Twilio credentials\n",
        "account_sid = 'ACfde97a5bd4929cbccd69e0e780748ecf'  # Your Account SID\n",
        "auth_token = '31c56f0137d32e7b641b080cbd8761e6'     # Your Auth Token\n",
        "client = Client(account_sid, auth_token)\n",
        "\n",
        "# Make a phone call\n",
        "call = client.calls.create(\n",
        "    url='http://demo.twilio.com/docs/voice.xml',  # TwiML URL for the call\n",
        "    to='+917550293777',                          # Recipient's phone number\n",
        "    from_='+17249954675'                         # Your Twilio phone number\n",
        ")\n",
        "\n",
        "print(call.sid)"
      ],
      "metadata": {
        "colab": {
          "base_uri": "https://localhost:8080/"
        },
        "id": "IqwdqyPmgfZ6",
        "outputId": "e19f4e1d-93c4-4d60-fab3-ff8850754b7b"
      },
      "execution_count": 5,
      "outputs": [
        {
          "output_type": "stream",
          "name": "stdout",
          "text": [
            "CAee5b6e3949c9430b009a5be756a1030b\n"
          ]
        }
      ]
    },
    {
      "cell_type": "markdown",
      "source": [
        "**Email Notification**"
      ],
      "metadata": {
        "id": "X9aoY9J1yqmk"
      }
    },
    {
      "cell_type": "code",
      "source": [
        "import smtplib\n",
        "from email.mime.multipart import MIMEMultipart\n",
        "from email.mime.text import MIMEText\n",
        "\n",
        "EMAIL_SENDER = \"jayadithya.g10@gmail.com\"\n",
        "EMAIL_PASSWORD = \"Dg29051971**\"  # ur Gmail App Password\n",
        "EMAIL_RECEIVER = \"jayadithya.g7@gmail.com\"\n",
        "\n",
        "# Function to send an email alert\n",
        "def send_email_alert(subject, message):\n",
        "    try:\n",
        "        msg = MIMEMultipart()\n",
        "        msg['From'] = EMAIL_SENDER\n",
        "        msg['To'] = EMAIL_RECEIVER\n",
        "        msg['Subject'] = subject\n",
        "        msg.attach(MIMEText(message, 'plain'))\n",
        "\n",
        "        with smtplib.SMTP_SSL(\"smtp.gmail.com\", 465) as server:\n",
        "            server.login(EMAIL_SENDER, EMAIL_PASSWORD)\n",
        "            server.sendmail(EMAIL_SENDER, EMAIL_RECEIVER, msg.as_string())\n",
        "\n",
        "        print(\"Alert email sent successfully!\")\n",
        "\n",
        "    except Exception as e:\n",
        "        print(f\"Error sending email: {e}\")\n",
        "\n",
        "send_email_alert(\"Security Alert\", \"This is a test email\")"
      ],
      "metadata": {
        "colab": {
          "base_uri": "https://localhost:8080/"
        },
        "id": "07fBULezyuKt",
        "outputId": "b35d51b1-eb29-493b-f482-7f561d1f1046"
      },
      "execution_count": 6,
      "outputs": [
        {
          "output_type": "stream",
          "name": "stdout",
          "text": [
            "Error sending email: (535, b'5.7.8 Username and Password not accepted. For more information, go to\\n5.7.8  https://support.google.com/mail/?p=BadCredentials 4fb4d7f45d1cf-6005ac32f9esm3718999a12.55 - gsmtp')\n"
          ]
        }
      ]
    },
    {
      "cell_type": "code",
      "source": [],
      "metadata": {
        "id": "xt04acX26CXC"
      },
      "execution_count": null,
      "outputs": []
    }
  ]
}
