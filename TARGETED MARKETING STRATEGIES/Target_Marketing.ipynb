{
  "nbformat": 4,
  "nbformat_minor": 0,
  "metadata": {
    "colab": {
      "provenance": []
    },
    "kernelspec": {
      "name": "python3",
      "display_name": "Python 3"
    },
    "language_info": {
      "name": "python"
    }
  },
  "cells": [
    {
      "cell_type": "code",
      "execution_count": null,
      "metadata": {
        "id": "TOnfg2839OGM"
      },
      "outputs": [],
      "source": [
        "from transformers import pipeline\n",
        "\n",
        "classifier = pipeline(\"zero-shot-classification\", model=\"facebook/bart-large-mnli\")\n",
        "\n",
        "event_name = \"Event on AI and Computer Vision\"\n",
        "event_classes = [\n",
        "    \"Event for Tech Professionals\",\n",
        "    \"Event for Entrepreneurs\",\n",
        "    \"Event for Product Managers and UX Designers\",\n",
        "    \"Event for C-Suite Executives\",\n",
        "    \"Event for Students and Aspiring Techies\",\n",
        "    \"Event for Investors and Venture Capitalists\",\n",
        "    \"Event for Tech Enthusiasts and Hobbyists\",\n",
        "    \"Event for Academics and Researchers\",\n",
        "    \"Event for Tech Media and Bloggers\",\n",
        "    \"Event for Industry-Specific Professionals\",\n",
        "    \"Event for Open Source Contributors\",\n",
        "    \"Event for Gamers and Game Developers\"\n",
        "]\n",
        "\n",
        "result = classifier(event_name, event_classes)\n",
        "print(result[\"labels\"][0])  # Returns the best matching category\n"
      ]
    },
    {
      "cell_type": "code",
      "source": [
        "event_name = \"Event on Mathmematical Proofs\"\n",
        "event_classes = [\n",
        "    \"Event for Tech Professionals\",\n",
        "    \"Event for Entrepreneurs\",\n",
        "    \"Event for Product Managers and UX Designers\",\n",
        "    \"Event for C-Suite Executives\",\n",
        "    \"Event for Students and Aspiring Techies\",\n",
        "    \"Event for Investors and Venture Capitalists\",\n",
        "    \"Event for Tech Enthusiasts and Hobbyists\",\n",
        "    \"Event for Academics and Researchers\",\n",
        "    \"Event for Tech Media and Bloggers\",\n",
        "    \"Event for Industry-Specific Professionals\",\n",
        "    \"Event for Open Source Contributors\",\n",
        "    \"Event for Gamers and Game Developers\"\n",
        "]\n",
        "\n",
        "result = classifier(event_name, event_classes)\n",
        "print(result[\"labels\"][0])  # Returns the best matching category"
      ],
      "metadata": {
        "colab": {
          "base_uri": "https://localhost:8080/"
        },
        "id": "zEpNkPdB9iut",
        "outputId": "3709dc87-69b7-4916-fc71-cafadc3574ce"
      },
      "execution_count": 3,
      "outputs": [
        {
          "output_type": "stream",
          "name": "stdout",
          "text": [
            "Event for Academics and Researchers\n"
          ]
        }
      ]
    }
  ]
}