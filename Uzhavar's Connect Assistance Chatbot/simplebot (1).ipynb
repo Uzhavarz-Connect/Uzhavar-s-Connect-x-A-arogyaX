{
 "cells": [
  {
   "cell_type": "code",
   "execution_count": 56,
   "metadata": {},
   "outputs": [],
   "source": [
    "#importing the necessary libraries\n",
    "from langchain_community.document_loaders import PyPDFLoader\n",
    "from langchain_text_splitters import RecursiveCharacterTextSplitter\n",
    "from langchain_community.embeddings import HuggingFaceBgeEmbeddings\n",
    "from langchain_google_genai import ChatGoogleGenerativeAI\n",
    "from langchain_core.prompts import ChatPromptTemplate\n",
    "from langchain_chroma import Chroma\n",
    "from lyzr import VoiceBot\n",
    "import os\n",
    "\n",
    "\n",
    "from dotenv import load_dotenv\n",
    "load_dotenv()\n",
    "\n",
    "#creating the objects\n",
    "embeddings=HuggingFaceBgeEmbeddings(model_name=\"all-MiniLM-L6-v2\")\n",
    "text_splitter=RecursiveCharacterTextSplitter(chunk_size=1000,chunk_overlap=100)\n",
    "pdf_loader=PyPDFLoader(\"C:\\AI_PROJECTS\\snuchacks\\Aspiring AIML ENGINEER (new).pdf\")"
   ]
  },
  {
   "cell_type": "code",
   "execution_count": 57,
   "metadata": {},
   "outputs": [],
   "source": [
    "#creating the objects\n",
    "embeddings=HuggingFaceBgeEmbeddings(model_name=\"all-MiniLM-L6-v2\")\n",
    "text_splitter=RecursiveCharacterTextSplitter(chunk_size=1000,chunk_overlap=100)\n",
    "pdf_loader=PyPDFLoader(\"C:\\AI_PROJECTS\\snuchacks\\Aspiring AIML ENGINEER (new).pdf\")\n",
    "\n",
    "#splitting the uploaded document into chunks and initializing the Chroma object to store the chunks\n",
    "doc = pdf_loader.load()\n",
    "chunks = text_splitter.split_documents(doc)\n",
    "chromadb = Chroma.from_documents(chunks, embeddings, collection_name=\"document_collection\")\n",
    "query=\"Who is Rex Joson?\""
   ]
  },
  {
   "cell_type": "code",
   "execution_count": 58,
   "metadata": {},
   "outputs": [
    {
     "data": {
      "text/plain": [
       "'EXPERIENCE\\nIBM Z Hackathon (participant)\\nSecured  Top most Grade in\\npython course offered in the\\nIITM bsc data science course \\n       which proves my expertise in \\n       python.\\nAn elementary proficiency in\\nIOT technologies like Arduino\\nand RaspBerry pi with a small\\ncollege project of a fire\\nextinguisher using arduino IDE.\\nREX JOSON DEVA.R\\nASPIRING AI/ML ENGINEER\\nWITH A PASSION FOR\\nENTREPRENEURSHIP\\nABOUT ME:\\nPROJECTS COMPLETED SO FAR \\nMyself Rex Joson Deva .R, a dual degree student at SNU Chennai\\nand from IIT MADRAS , I dedicate myself to explore the world of\\nartificial intelligence and machine learning and improve my skills\\nconstantly with the rapidness of this sect. With a good hold on  \\nMachine Learning, AI (Including Generative AI ) I always seek new \\nChallenges and opportunities to learn and grow in this evolving\\nfield.\\nThis is an implementation of an AI called Lyzr AI which specializes\\nin Agentic AI. With their libraries and proper industrial practices'"
      ]
     },
     "execution_count": 58,
     "metadata": {},
     "output_type": "execute_result"
    }
   ],
   "source": [
    "#SEARCHING THE query in the document\n",
    "result=chromadb.similarity_search(query)\n",
    "result[0].page_content"
   ]
  },
  {
   "cell_type": "code",
   "execution_count": 59,
   "metadata": {},
   "outputs": [
    {
     "data": {
      "text/plain": [
       "'That\\'s great! Programming is a fantastic skill to have.  While I can\\'t directly interact with or \"integrate\" with specific websites in the way a browser plugin or external application might, I *can* provide you with information about websites relevant to programming.  I can help you find resources for learning to program, different programming languages, communities of programmers, and more.\\n\\nTo help me give you the best information, could you tell me a little more about what you\\'re interested in?  For example:\\n\\n* **What kind of programming are you interested in?** (Web development, game development, data science, etc.)\\n* **What programming languages do you know or want to learn?** (Python, JavaScript, C++, Java, etc.)\\n* **Are you looking for specific tools or resources?** (Online courses, tutorials, documentation, etc.)\\n\\nThe more details you can give me, the better I can assist you.'"
      ]
     },
     "execution_count": 59,
     "metadata": {},
     "output_type": "execute_result"
    }
   ],
   "source": [
    "#initialising the ChatGoogleGenerativeAI object\n",
    "llm=ChatGoogleGenerativeAI(model=\"gemini-1.5-pro\")\n",
    "\n",
    "#creating a prompt template that describes the ai what to do \n",
    "prompt=ChatPromptTemplate.from_messages(\n",
    "    [\n",
    "        (\n",
    "            \"system\",\n",
    "            \"you are a helpful assistant that guides the user about the website that we will integerate with you.\" \n",
    "        ),\n",
    "        (\"human\",\"{input}\"),\n",
    "    ]\n",
    ")\n",
    "\n",
    "#chaining our model with a prompt template so that our llm model can know with respect to what template the answers can be generated\n",
    "chain=prompt|llm\n",
    "\n",
    "\n",
    "response=chain.invoke(\n",
    "    {\n",
    "        \"input\":\"i love programming\",\n",
    "    }\n",
    ")\n",
    "\n",
    "#printing the chained model's response\n",
    "main_response=response.content\n",
    "main_response\n"
   ]
  },
  {
   "cell_type": "code",
   "execution_count": 60,
   "metadata": {},
   "outputs": [
    {
     "name": "stderr",
     "output_type": "stream",
     "text": [
      "Hardware accelerator e.g. GPU is available in the environment, but no `device` argument is passed to the `Pipeline` object. Model will be on CPU.\n"
     ]
    },
    {
     "name": "stdout",
     "output_type": "stream",
     "text": [
      "Event for Tech Enthusiasts and Hobbyists\n"
     ]
    }
   ],
   "source": [
    "#classification of entities using zero shot classification model\n",
    "\n",
    "from transformers import pipeline\n",
    "\n",
    "classifier = pipeline(\"zero-shot-classification\", model=\"facebook/bart-large-mnli\")\n",
    "\n",
    "event_name = \"Event on AI and Computer Vision\"\n",
    "event_classes = [\n",
    "    \"Event for Tech Professionals\",\n",
    "    \"Event for Entrepreneurs\",\n",
    "    \"Event for Product Managers and UX Designers\",\n",
    "    \"Event for C-Suite Executives\",\n",
    "    \"Event for Students and Aspiring Techies\",\n",
    "    \"Event for Investors and Venture Capitalists\",\n",
    "    \"Event for Tech Enthusiasts and Hobbyists\",\n",
    "    \"Event for Academics and Researchers\",\n",
    "    \"Event for Tech Media and Bloggers\",\n",
    "    \"Event for Industry-Specific Professionals\",\n",
    "    \"Event for Open Source Contributors\",\n",
    "    \"Event for Gamers and Game Developers\"\n",
    "]\n",
    "\n",
    "result = classifier(event_name, event_classes)\n",
    "print(result[\"labels\"][0])  # Returns the best matching category"
   ]
  },
  {
   "cell_type": "code",
   "execution_count": null,
   "metadata": {},
   "outputs": [
    {
     "name": "stdout",
     "output_type": "stream",
     "text": [
      "The stale smell of old beer lingers. It takes heat to bring out the odor. A cold dip restores health and zest. A salt pickle tastes fine with ham. Tacos al pastor are my favorite. A zestful food is the hot cross bun.\n"
     ]
    }
   ],
   "source": [
    "#speech to text \n",
    "voicebot = VoiceBot(api_key=os.getenv(\"OPENAI_API_KEY\"))\n",
    "print(voicebot.transcribe(\"C:\\AI_PROJECTS\\snuchacks\\harvard.wav\"))"
   ]
  }
 ],
 "metadata": {
  "kernelspec": {
   "display_name": "newenv",
   "language": "python",
   "name": "python3"
  },
  "language_info": {
   "codemirror_mode": {
    "name": "ipython",
    "version": 3
   },
   "file_extension": ".py",
   "mimetype": "text/x-python",
   "name": "python",
   "nbconvert_exporter": "python",
   "pygments_lexer": "ipython3",
   "version": "3.10.15"
  }
 },
 "nbformat": 4,
 "nbformat_minor": 2
}
