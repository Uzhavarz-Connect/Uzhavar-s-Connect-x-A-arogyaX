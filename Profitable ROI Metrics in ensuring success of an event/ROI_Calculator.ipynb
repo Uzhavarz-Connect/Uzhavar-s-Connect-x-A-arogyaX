{
  "nbformat": 4,
  "nbformat_minor": 0,
  "metadata": {
    "colab": {
      "provenance": [],
      "gpuType": "T4"
    },
    "kernelspec": {
      "name": "python3",
      "display_name": "Python 3"
    },
    "language_info": {
      "name": "python"
    },
    "accelerator": "GPU"
  },
  "cells": [
    {
      "cell_type": "code",
      "execution_count": 6,
      "metadata": {
        "id": "8RrOmTY5wpI3",
        "colab": {
          "base_uri": "https://localhost:8080/"
        },
        "outputId": "2de45f4a-4221-4d1f-c858-9d98c035bb41"
      },
      "outputs": [
        {
          "output_type": "stream",
          "name": "stdout",
          "text": [
            "=== Event ROI Calculator ===\n",
            "\n",
            "Number of tickets sold: 68\n",
            "Price per ticket: Rs.250\n",
            "Number of leads generated: 25\n",
            "Estimated conversion rate (as a percentage, e.g., 10 for 10%): 45\n",
            "Average revenue per conversion: Rs.2000\n",
            "Sponsorship income: Rs.30000\n",
            "Product sales during event: Rs.15000\n",
            "Event management costs: Rs.45000\n",
            "Marketing costs: Rs.5000\n",
            "Other costs (venue, equipment, etc.): Rs.4000\n",
            "\n",
            "=== Results ===\n",
            "Total Revenue: Rs.84,500.00\n",
            "Total Costs:   Rs.54,000.00\n",
            "Event ROI:     56.48%\n",
            "Interpretation: Low ROI, needs improvement.\n"
          ]
        }
      ],
      "source": [
        "def get_float_input(prompt):\n",
        "    while True:\n",
        "        try:\n",
        "            return float(input(prompt))\n",
        "        except ValueError:\n",
        "            print(\"Please enter a valid number.\")\n",
        "\n",
        "def main():\n",
        "    print(\"=== Event ROI Calculator ===\\n\")\n",
        "\n",
        "    # Revenue Inputs\n",
        "    num_tickets = get_float_input(\"Number of tickets sold: \")\n",
        "    ticket_price = get_float_input(\"Price per ticket: Rs.\")\n",
        "    leads_generated = get_float_input(\"Number of leads generated: \")\n",
        "    conversion_rate = get_float_input(\"Estimated conversion rate (as a percentage, e.g., 10 for 10%): \") / 100\n",
        "    avg_revenue_per_conversion = get_float_input(\"Average revenue per conversion: Rs.\")\n",
        "    sponsorship_income = get_float_input(\"Sponsorship income: Rs.\")\n",
        "    product_sales = get_float_input(\"Product sales during event: Rs.\")\n",
        "\n",
        "    # Cost Inputs\n",
        "    management_costs = get_float_input(\"Event management costs: Rs.\")\n",
        "    marketing_costs = get_float_input(\"Marketing costs: Rs.\")\n",
        "    other_costs = get_float_input(\"Other costs (venue, equipment, etc.): Rs.\")\n",
        "\n",
        "    # Calculations\n",
        "    revenue_from_tickets = num_tickets * ticket_price\n",
        "    leads_value = leads_generated * conversion_rate * avg_revenue_per_conversion\n",
        "    total_revenue = revenue_from_tickets + leads_value + sponsorship_income + product_sales\n",
        "    total_costs = management_costs + marketing_costs + other_costs\n",
        "\n",
        "    # ROI Formula\n",
        "    if total_costs == 0:\n",
        "        print(\"\\nTotal event costs cannot be zero.\")\n",
        "        return\n",
        "\n",
        "    roi = ((total_revenue - total_costs) / total_costs) * 100\n",
        "\n",
        "    # Output Results\n",
        "    print(\"\\n=== Results ===\")\n",
        "    print(f\"Total Revenue: Rs.{total_revenue:,.2f}\")\n",
        "    print(f\"Total Costs:   Rs.{total_costs:,.2f}\")\n",
        "    print(f\"Event ROI:     {roi:.2f}%\")\n",
        "\n",
        "    # ROI Interpretation (based on industry benchmarks)[1]\n",
        "    if roi < 100:\n",
        "        interpretation = \"Low ROI, needs improvement.\"\n",
        "    elif roi < 200:\n",
        "        interpretation = \"Moderate ROI, acceptable range.\"\n",
        "    elif roi < 300:\n",
        "        interpretation = \"High ROI, strong performance.\"\n",
        "    else:\n",
        "        interpretation = \"Excellent ROI, very profitable.\"\n",
        "    print(f\"Interpretation: {interpretation}\")\n",
        "\n",
        "if __name__ == \"__main__\":\n",
        "    main()\n"
      ]
    },
    {
      "cell_type": "markdown",
      "source": [
        "**# Parameters**\n",
        "\n",
        "**Number of tickets sold**\n",
        "The total quantity of tickets purchased by attendees for your event. This directly impacts your ticket revenue.\n",
        "\n",
        "**Price per ticket**\n",
        "The amount charged for each ticket. Multiplying this by the number of tickets sold gives your total ticket sales revenue.\n",
        "\n",
        "**Number of leads generated**\n",
        "The total number of potential customers or contacts collected during the event. These leads represent future sales opportunities.\n",
        "\n",
        "**Estimated conversion rate (%)**\n",
        "The percentage of leads you expect to convert into actual customers after the event. For example, a 10% conversion rate means you expect 10% of your leads to result in sales.\n",
        "\n",
        "**Average revenue per conversion**\n",
        "The typical amount of money earned from each converted lead. This helps estimate the total revenue that will result from your post-event follow-ups.\n",
        "\n",
        "**Sponsorship income**\n",
        "The total amount of money received from sponsors supporting your event. Sponsorships can be a significant source of event revenue.\n",
        "\n",
        "**Product sales during event**\n",
        "The total revenue from products or services sold directly at the event. This includes merchandise, books, or any other items sold on-site.\n",
        "\n",
        "**Event management costs**\n",
        "All expenses related to organizing and running the event. This can include staff salaries, planning fees, logistics, and administrative costs.\n",
        "\n",
        "**Marketing costs**\n",
        "The total spent on promoting the event. This includes advertising, social media campaigns, email marketing, and any other promotional activities.\n",
        "\n",
        "**Other costs (venue, equipment, etc.)**\n",
        "Any additional expenses not covered above, such as venue rental, audio-visual equipment, catering, decorations, and travel."
      ],
      "metadata": {
        "id": "k5FFJNeGxwwq"
      }
    },
    {
      "cell_type": "code",
      "source": [],
      "metadata": {
        "id": "paGAueNZx6XS"
      },
      "execution_count": null,
      "outputs": []
    }
  ]
}